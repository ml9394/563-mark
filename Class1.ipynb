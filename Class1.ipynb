{
  "nbformat": 4,
  "nbformat_minor": 0,
  "metadata": {
    "colab": {
      "provenance": [],
      "authorship_tag": "ABX9TyN4l/rZMZcukDb0kp2yyPdT",
      "include_colab_link": true
    },
    "kernelspec": {
      "name": "python3",
      "display_name": "Python 3"
    },
    "language_info": {
      "name": "python"
    }
  },
  "cells": [
    {
      "cell_type": "markdown",
      "metadata": {
        "id": "view-in-github",
        "colab_type": "text"
      },
      "source": [
        "<a href=\"https://colab.research.google.com/github/ml9394/563-mark/blob/main/Class1.ipynb\" target=\"_parent\"><img src=\"https://colab.research.google.com/assets/colab-badge.svg\" alt=\"Open In Colab\"/></a>"
      ]
    },
    {
      "cell_type": "code",
      "execution_count": 2,
      "metadata": {
        "colab": {
          "base_uri": "https://localhost:8080/"
        },
        "id": "WOJEwjvTtaVo",
        "outputId": "dd4e497b-a7ae-4ca7-871c-4e3974d03b8e"
      },
      "outputs": [
        {
          "output_type": "stream",
          "name": "stdout",
          "text": [
            "hello class\n"
          ]
        }
      ],
      "source": [
        "# I'm trying to figure out how many ways\n",
        "# we can fit 20 particles in a volume of 40-billion and 4-billion\n",
        "print(\"hello class\")\n",
        "a = 20\n",
        "b = [1,23,\"string!\"] #shift+return runs the cell!\n"
      ]
    },
    {
      "cell_type": "code",
      "source": [
        "print(b)"
      ],
      "metadata": {
        "colab": {
          "base_uri": "https://localhost:8080/"
        },
        "id": "iVr4dajJuWIy",
        "outputId": "d9e307e7-3550-4c00-9fd9-01db1dec425b"
      },
      "execution_count": 6,
      "outputs": [
        {
          "output_type": "stream",
          "name": "stdout",
          "text": [
            "[1, 23, 'string!']\n"
          ]
        }
      ]
    },
    {
      "cell_type": "code",
      "source": [],
      "metadata": {
        "id": "lzowej29ulvg"
      },
      "execution_count": null,
      "outputs": []
    }
  ]
}