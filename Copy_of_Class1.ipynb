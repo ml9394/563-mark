{
  "nbformat": 4,
  "nbformat_minor": 0,
  "metadata": {
    "colab": {
      "provenance": [],
      "authorship_tag": "ABX9TyO/rG+HS6iZVLh/YRzAUqge",
      "include_colab_link": true
    },
    "kernelspec": {
      "name": "python3",
      "display_name": "Python 3"
    },
    "language_info": {
      "name": "python"
    }
  },
  "cells": [
    {
      "cell_type": "markdown",
      "metadata": {
        "id": "view-in-github",
        "colab_type": "text"
      },
      "source": [
        "<a href=\"https://colab.research.google.com/github/ml9394/563-mark/blob/main/Copy_of_Class1.ipynb\" target=\"_parent\"><img src=\"https://colab.research.google.com/assets/colab-badge.svg\" alt=\"Open In Colab\"/></a>"
      ]
    },
    {
      "cell_type": "code",
      "execution_count": null,
      "metadata": {
        "colab": {
          "base_uri": "https://localhost:8080/"
        },
        "id": "WOJEwjvTtaVo",
        "outputId": "dd4e497b-a7ae-4ca7-871c-4e3974d03b8e"
      },
      "outputs": [
        {
          "output_type": "stream",
          "name": "stdout",
          "text": [
            "hello class\n"
          ]
        }
      ],
      "source": [
        "# I'm trying to figure out how many ways\n",
        "# we can fit 20 particles in a volume of 40-billion and 4-billion\n",
        "print(\"hello class\")\n",
        "a = 20\n",
        "b = [1,23,\"string!\"] #shift+return runs the cell!\n"
      ]
    },
    {
      "cell_type": "code",
      "source": [
        "print(b)"
      ],
      "metadata": {
        "colab": {
          "base_uri": "https://localhost:8080/"
        },
        "id": "iVr4dajJuWIy",
        "outputId": "d9e307e7-3550-4c00-9fd9-01db1dec425b"
      },
      "execution_count": null,
      "outputs": [
        {
          "output_type": "stream",
          "name": "stdout",
          "text": [
            "[1, 23, 'string!']\n"
          ]
        }
      ]
    },
    {
      "cell_type": "code",
      "source": [
        "#OK, now i'm really going to work on the problem\n",
        "places_can_sit = (4*10**9)**2"
      ],
      "metadata": {
        "id": "lzowej29ulvg"
      },
      "execution_count": null,
      "outputs": []
    },
    {
      "cell_type": "code",
      "source": [
        "print(places_can_sit**20)"
      ],
      "metadata": {
        "id": "g3I6xkWixUv_",
        "outputId": "0c416bd8-4e23-4f11-86be-5424e5490674",
        "colab": {
          "base_uri": "https://localhost:8080/"
        }
      },
      "execution_count": null,
      "outputs": [
        {
          "output_type": "stream",
          "name": "stdout",
          "text": [
            "1208925819614629174706176000000000000000000000000000000000000000000000000000000000000000000000000000000000000000000000000000000000000000000000000000000000000000000000000000000000000000000000000000000000000000000000000000000000000000000000000000000000000000000000000000000000000000000000000000000000000000000000000000000000000000000000000000000000000000000000000000000000000000000000000\n"
          ]
        }
      ]
    },
    {
      "cell_type": "code",
      "source": [
        "# how many years will it take to evaluate these configs\n",
        "# with 2.67 billion equations per second ?\n",
        "n = places_can_sit**20\n",
        "n//(267*10**7)"
      ],
      "metadata": {
        "id": "I74FEqfgyKG9",
        "outputId": "54a7dbfb-7c51-41c6-b141-a33c813fb80f",
        "colab": {
          "base_uri": "https://localhost:8080/"
        }
      },
      "execution_count": null,
      "outputs": [
        {
          "output_type": "execute_result",
          "data": {
            "text/plain": [
              "452781205848175720863736329588014981273408239700374531835205992509363295880149812734082397003745318352059925093632958801498127340823970037453183520599250936329588014981273408239700374531835205992509363295880149812734082397003745318352059925093632958801498127340823970037453183520599250936329588014981273408239700374531835205992509363295880149812734082397003745318352059925093"
            ]
          },
          "metadata": {},
          "execution_count": 8
        }
      ]
    },
    {
      "cell_type": "code",
      "source": [
        "m = 452781205848175720863736329588014981273408239700374531835205992509363295880149812734082397003745318352059925093632958801498127340823970037453183520599250936329588014981273408239700374531835205992509363295880149812734082397003745318352059925093632958801498127340823970037453183520599250936329588014981273408239700374531835205992509363295880149812734082397003745318352059925093\n",
        "\n",
        "print(m//3600//24//365//(10**367))"
      ],
      "metadata": {
        "id": "qs0bdsUw0upx",
        "outputId": "6548209e-7289-4086-b56c-2a7cd55d45c6",
        "colab": {
          "base_uri": "https://localhost:8080/"
        }
      },
      "execution_count": null,
      "outputs": [
        {
          "output_type": "stream",
          "name": "stdout",
          "text": [
            "1\n"
          ]
        }
      ]
    },
    {
      "cell_type": "code",
      "source": [],
      "metadata": {
        "id": "romzyh574BW8"
      },
      "execution_count": null,
      "outputs": []
    }
  ]
}