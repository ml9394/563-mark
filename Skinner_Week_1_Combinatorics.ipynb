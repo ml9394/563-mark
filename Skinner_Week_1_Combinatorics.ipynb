{
  "nbformat": 4,
  "nbformat_minor": 0,
  "metadata": {
    "colab": {
      "provenance": [],
      "authorship_tag": "ABX9TyNFvWh1Ey/82+YRJ2ZspWqN",
      "include_colab_link": true
    },
    "kernelspec": {
      "name": "python3",
      "display_name": "Python 3"
    },
    "language_info": {
      "name": "python"
    }
  },
  "cells": [
    {
      "cell_type": "markdown",
      "metadata": {
        "id": "view-in-github",
        "colab_type": "text"
      },
      "source": [
        "<a href=\"https://colab.research.google.com/github/ml9394/563-mark/blob/main/Skinner_Week_1_Combinatorics.ipynb\" target=\"_parent\"><img src=\"https://colab.research.google.com/assets/colab-badge.svg\" alt=\"Open In Colab\"/></a>"
      ]
    },
    {
      "cell_type": "code",
      "execution_count": 10,
      "metadata": {
        "id": "ZPUB5VI0dOiw"
      },
      "outputs": [],
      "source": [
        "# python\n",
        "import math\n",
        "# 1.1) what is the number of configurations available to the combined system"
      ]
    },
    {
      "cell_type": "code",
      "source": [
        "o1 = 10**20\n",
        "o2 = 10**22\n",
        "# c is the number of configurations available to the combined system\n",
        "c = o1*o2\n",
        "k = 1.38*10**(-23)\n",
        "l1=math.log(o1)\n",
        "l2=math.log(o2)\n",
        "lc=math.log(c)\n",
        "s1 = k*l1\n",
        "s2 = k*l2\n",
        "s=k*lc"
      ],
      "metadata": {
        "id": "zN4GZo3Egb-D"
      },
      "execution_count": 11,
      "outputs": []
    },
    {
      "cell_type": "code",
      "source": [
        "# compute the entropies s, s1, s2\n",
        "print(c)\n",
        "print(s1)\n",
        "print(s2)\n",
        "print(s)"
      ],
      "metadata": {
        "colab": {
          "base_uri": "https://localhost:8080/"
        },
        "id": "qHo0ufORjFKL",
        "outputId": "58c94b1f-0f22-4eeb-e21b-820070703710"
      },
      "execution_count": 12,
      "outputs": [
        {
          "output_type": "stream",
          "name": "stdout",
          "text": [
            "1000000000000000000000000000000000000000000\n",
            "6.355134856663565e-22\n",
            "6.990648342329922e-22\n",
            "1.3345783198993486e-21\n"
          ]
        }
      ]
    },
    {
      "cell_type": "code",
      "source": [
        "# 1.2)by what factor does the number of available configurations increase when 10 m**3 of air at 1.0 atm and 300 k is allowed to expand by 0.0001 % at cont temp?\n",
        "vi=10\n",
        "p=1.0\n",
        "T=300\n",
        "vf=9.9999\n",
        "V=vf/vi\n",
        "from math import e\n",
        "print(e)"
      ],
      "metadata": {
        "colab": {
          "base_uri": "https://localhost:8080/"
        },
        "id": "jDescnqLjIa5",
        "outputId": "84840b44-195c-4472-cf90-5e5fc19d39e5"
      },
      "execution_count": 35,
      "outputs": [
        {
          "output_type": "stream",
          "name": "stdout",
          "text": [
            "2.718281828459045\n"
          ]
        }
      ]
    },
    {
      "cell_type": "code",
      "source": [
        "ds=k*math.log(V)\n"
      ],
      "metadata": {
        "id": "H5WjB_I77f_K"
      },
      "execution_count": 36,
      "outputs": []
    },
    {
      "cell_type": "code",
      "source": [
        "print(ds)\n",
        "print(s)"
      ],
      "metadata": {
        "colab": {
          "base_uri": "https://localhost:8080/"
        },
        "id": "tJhyWJ5Q_3f9",
        "outputId": "812dd860-cf6f-4532-82e6-b630209e6ac8"
      },
      "execution_count": 37,
      "outputs": [
        {
          "output_type": "stream",
          "name": "stdout",
          "text": [
            "-1.3800069000397195e-28\n",
            "1.3345783198993486e-21\n"
          ]
        }
      ]
    },
    {
      "cell_type": "code",
      "source": [
        "cn=e**(s/k)\n",
        "dc=e**(ds/k)"
      ],
      "metadata": {
        "id": "Rzln-jrL_7tr"
      },
      "execution_count": 38,
      "outputs": []
    },
    {
      "cell_type": "code",
      "source": [
        "print(cn)\n",
        "print(dc)"
      ],
      "metadata": {
        "colab": {
          "base_uri": "https://localhost:8080/"
        },
        "id": "9MnEfN4iDRKD",
        "outputId": "a3793a40-d343-43fe-8a6e-6ac548e5503a"
      },
      "execution_count": 39,
      "outputs": [
        {
          "output_type": "stream",
          "name": "stdout",
          "text": [
            "9.999999999999915e+41\n",
            "0.99999\n"
          ]
        }
      ]
    },
    {
      "cell_type": "code",
      "source": [
        "# changes by a factor of 1/(10**42)\n"
      ],
      "metadata": {
        "id": "IiTpJqU-EQmh"
      },
      "execution_count": 40,
      "outputs": []
    },
    {
      "cell_type": "code",
      "source": [
        "#3) By what factor does the number of available configurations increase when 150 kJ is added to a system containing 2.0 mol of particles at constant volume and T=300 K\n",
        "# so if entropy S is proportional to the number of states kB * ln(Omega) at constant moles, volume and energy 2.1.6\n",
        "#1/T=(dS/dE) at constant volume and moles\n",
        "# the change in energy would be equivalent"
      ],
      "metadata": {
        "id": "tfI2OeG6FVt8"
      },
      "execution_count": 41,
      "outputs": []
    }
  ]
}